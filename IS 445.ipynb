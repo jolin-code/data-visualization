{
 "cells": [
  {
   "cell_type": "code",
   "execution_count": null,
   "id": "1c080257",
   "metadata": {},
   "outputs": [],
   "source": [
    "import matplotlib.pyplot as plt"
   ]
  },
  {
   "cell_type": "code",
   "execution_count": null,
   "id": "879573b8",
   "metadata": {},
   "outputs": [],
   "source": [
    "# Define data"
   ]
  },
  {
   "cell_type": "code",
   "execution_count": null,
   "id": "a6ddc103",
   "metadata": {},
   "outputs": [],
   "source": [
    "labels = ['A', 'B', 'C', 'D']\n",
    "values = [10, 15, 20, 5]"
   ]
  },
  {
   "cell_type": "code",
   "execution_count": null,
   "id": "a802b370",
   "metadata": {},
   "outputs": [],
   "source": [
    "# Create bar chart"
   ]
  },
  {
   "cell_type": "code",
   "execution_count": null,
   "id": "6320dc6c",
   "metadata": {},
   "outputs": [],
   "source": [
    "plt.bar(labels, values)"
   ]
  },
  {
   "cell_type": "code",
   "execution_count": null,
   "id": "f3bb8c69",
   "metadata": {},
   "outputs": [],
   "source": [
    "# Add labels and title"
   ]
  },
  {
   "cell_type": "code",
   "execution_count": null,
   "id": "c617b54a",
   "metadata": {},
   "outputs": [],
   "source": [
    "plt.xlabel('Category')\n",
    "plt.ylabel('Value')\n",
    "plt.title('IS445 Practice Bar Chart')"
   ]
  },
  {
   "cell_type": "code",
   "execution_count": null,
   "id": "91e006b7",
   "metadata": {},
   "outputs": [],
   "source": [
    "# Show the chart"
   ]
  },
  {
   "cell_type": "code",
   "execution_count": null,
   "id": "f82a9b4b",
   "metadata": {},
   "outputs": [],
   "source": [
    "plt.show()"
   ]
  },
  {
   "cell_type": "code",
   "execution_count": null,
   "id": "063e6723",
   "metadata": {},
   "outputs": [],
   "source": []
  },
  {
   "cell_type": "code",
   "execution_count": null,
   "id": "cd3c80b0",
   "metadata": {},
   "outputs": [],
   "source": []
  }
 ],
 "metadata": {
  "kernelspec": {
   "display_name": "Python 3 (ipykernel)",
   "language": "python",
   "name": "python3"
  },
  "language_info": {
   "codemirror_mode": {
    "name": "ipython",
    "version": 3
   },
   "file_extension": ".py",
   "mimetype": "text/x-python",
   "name": "python",
   "nbconvert_exporter": "python",
   "pygments_lexer": "ipython3",
   "version": "3.9.13"
  }
 },
 "nbformat": 4,
 "nbformat_minor": 5
}
